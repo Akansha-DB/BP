{
 "cells": [
  {
   "cell_type": "code",
   "execution_count": 27,
   "metadata": {},
   "outputs": [],
   "source": [
    "import json\n",
    "import pandas as pd\n",
    "import time\n",
    "#from faker import Factory,Faker\n",
    "import numpy as np"
   ]
  },
  {
   "cell_type": "code",
   "execution_count": 28,
   "metadata": {},
   "outputs": [
    {
     "data": {
      "text/html": [
       "<div>\n",
       "<style scoped>\n",
       "    .dataframe tbody tr th:only-of-type {\n",
       "        vertical-align: middle;\n",
       "    }\n",
       "\n",
       "    .dataframe tbody tr th {\n",
       "        vertical-align: top;\n",
       "    }\n",
       "\n",
       "    .dataframe thead th {\n",
       "        text-align: right;\n",
       "    }\n",
       "</style>\n",
       "<table border=\"1\" class=\"dataframe\">\n",
       "  <thead>\n",
       "    <tr style=\"text-align: right;\">\n",
       "      <th></th>\n",
       "      <th>@odata.context</th>\n",
       "      <th>value</th>\n",
       "    </tr>\n",
       "  </thead>\n",
       "  <tbody>\n",
       "    <tr>\n",
       "      <th>0</th>\n",
       "      <td>https://analytics.dev.azure.com/bp-people-cult...</td>\n",
       "      <td>{'WorkItemId': 12794, 'LeadTimeDays': 4.025381...</td>\n",
       "    </tr>\n",
       "    <tr>\n",
       "      <th>1</th>\n",
       "      <td>https://analytics.dev.azure.com/bp-people-cult...</td>\n",
       "      <td>{'WorkItemId': 12793, 'LeadTimeDays': 4.025439...</td>\n",
       "    </tr>\n",
       "    <tr>\n",
       "      <th>2</th>\n",
       "      <td>https://analytics.dev.azure.com/bp-people-cult...</td>\n",
       "      <td>{'WorkItemId': 12792, 'LeadTimeDays': 4.025590...</td>\n",
       "    </tr>\n",
       "    <tr>\n",
       "      <th>3</th>\n",
       "      <td>https://analytics.dev.azure.com/bp-people-cult...</td>\n",
       "      <td>{'WorkItemId': 13075, 'LeadTimeDays': 0.002592...</td>\n",
       "    </tr>\n",
       "    <tr>\n",
       "      <th>4</th>\n",
       "      <td>https://analytics.dev.azure.com/bp-people-cult...</td>\n",
       "      <td>{'WorkItemId': 13077, 'LeadTimeDays': 0.001828...</td>\n",
       "    </tr>\n",
       "  </tbody>\n",
       "</table>\n",
       "</div>"
      ],
      "text/plain": [
       "                                      @odata.context  \\\n",
       "0  https://analytics.dev.azure.com/bp-people-cult...   \n",
       "1  https://analytics.dev.azure.com/bp-people-cult...   \n",
       "2  https://analytics.dev.azure.com/bp-people-cult...   \n",
       "3  https://analytics.dev.azure.com/bp-people-cult...   \n",
       "4  https://analytics.dev.azure.com/bp-people-cult...   \n",
       "\n",
       "                                               value  \n",
       "0  {'WorkItemId': 12794, 'LeadTimeDays': 4.025381...  \n",
       "1  {'WorkItemId': 12793, 'LeadTimeDays': 4.025439...  \n",
       "2  {'WorkItemId': 12792, 'LeadTimeDays': 4.025590...  \n",
       "3  {'WorkItemId': 13075, 'LeadTimeDays': 0.002592...  \n",
       "4  {'WorkItemId': 13077, 'LeadTimeDays': 0.001828...  "
      ]
     },
     "execution_count": 28,
     "metadata": {},
     "output_type": "execute_result"
    }
   ],
   "source": [
    "pd.read_json(\"WorkItemsBP.json\").head()"
   ]
  },
  {
   "cell_type": "code",
   "execution_count": 29,
   "metadata": {},
   "outputs": [],
   "source": [
    "import json\n",
    "# load data using Python JSON module\n",
    "with open('WorkItemsBP.json','r') as f:\n",
    "    data = json.loads(f.read())\n",
    "# Flatten data\n",
    "df_nested_list = pd.json_normalize(data, record_path =['value'])\n"
   ]
  },
  {
   "cell_type": "code",
   "execution_count": 30,
   "metadata": {},
   "outputs": [
    {
     "data": {
      "text/plain": [
       "<bound method DataFrame.info of     WorkItemId  LeadTimeDays  CycleTimeDays  CompletedDateSK  \\\n",
       "0        12794      4.025382       4.022234         20210726   \n",
       "1        12793      4.025440       3.760926         20210726   \n",
       "2        12792      4.025590       3.760822         20210726   \n",
       "3        13075      0.002593       0.000000         20210727   \n",
       "4        13077      0.001829       0.000000         20210727   \n",
       "5        13079      0.001088       0.000000         20210727   \n",
       "6        13157      0.000463       0.000000         20210728   \n",
       "7        14360      0.000023       0.000000         20210804   \n",
       "8        14358      0.000324       0.000000         20210804   \n",
       "9        14359      0.000174       0.000000         20210804   \n",
       "10       14361      0.000810       0.000000         20210804   \n",
       "11       14448      0.000012       0.000000         20210809   \n",
       "12       12988     13.967662      13.967616         20210809   \n",
       "13       13163     11.841019       4.809086         20210809   \n",
       "14       13156     11.851887       0.000000         20210809   \n",
       "15       12791     17.997199      14.000139         20210809   \n",
       "16       14164     21.993009      19.002257         20210825   \n",
       "17       14416     19.001748       0.000000         20210825   \n",
       "18       14165     21.990729       0.000023         20210825   \n",
       "19       15139      0.000035       0.000012         20210826   \n",
       "20       15140      0.994641       0.000000         20210827   \n",
       "\n",
       "                                                Title          WorkItemType  \\\n",
       "0                        Kick off and meetings booked  Product Backlog Item   \n",
       "1                            Power BI intro with Amit  Product Backlog Item   \n",
       "2                               ADO intro with Neeraj  Product Backlog Item   \n",
       "3             ADO Transition - ADD Report Explanation  Product Backlog Item   \n",
       "4   ADO Transition - Connectivity to ADO from Powe...  Product Backlog Item   \n",
       "5               Extracting data from ADO with Anirudh  Product Backlog Item   \n",
       "6                                           EPCs view                  Task   \n",
       "7                                     Add data to ADO                  Task   \n",
       "8                   Create AWS environment outside BP                  Task   \n",
       "9                               Create ADO outside BP                  Task   \n",
       "10          Extract data from ADO using o data query                   Task   \n",
       "11                                       Initial list                  Task   \n",
       "12                             Experimenting with ADO  Product Backlog Item   \n",
       "13                           Schedule a Sprint Review  Product Backlog Item   \n",
       "14                             Dave to speak to Wendy                  Task   \n",
       "15                       Agree handover plan with EPC  Product Backlog Item   \n",
       "16  Establish that we can export the data that we ...  Product Backlog Item   \n",
       "17                     be able to Convert Json to CSV                  Task   \n",
       "18                         create a secure teams site                  Task   \n",
       "19                               Present sandbox data                  Task   \n",
       "20     Present as a bubble chart with different sizes                  Task   \n",
       "\n",
       "                 CreatedDate State  Priority TagNames  \n",
       "0   2021-07-22T08:43:54.767Z  Done         4     None  \n",
       "1    2021-07-22T08:43:26.12Z  Done         4     None  \n",
       "2    2021-07-22T08:43:05.47Z  Done         4     None  \n",
       "3   2021-07-27T13:44:52.807Z  Done         4     None  \n",
       "4    2021-07-27T13:49:00.82Z  Done         4     None  \n",
       "5   2021-07-27T13:52:45.833Z  Done         4     None  \n",
       "6   2021-07-28T12:10:49.833Z  Done         4     None  \n",
       "7   2021-08-04T13:12:35.777Z  Done         4     None  \n",
       "8    2021-08-04T13:12:13.03Z  Done         4     None  \n",
       "9   2021-08-04T13:12:25.157Z  Done         4     None  \n",
       "10  2021-08-04T13:13:04.673Z  Done         4     None  \n",
       "11  2021-08-09T08:35:33.433Z  Done         4     None  \n",
       "12  2021-07-26T09:22:32.563Z  Done         4     None  \n",
       "13   2021-07-28T12:25:00.88Z  Done         4     None  \n",
       "14   2021-07-28T12:10:30.34Z  Done         4     None  \n",
       "15   2021-07-22T08:41:43.83Z  Done         4     None  \n",
       "16  2021-08-03T08:48:41.083Z  Done         4     None  \n",
       "17  2021-08-06T08:36:09.193Z  Done         4     None  \n",
       "18  2021-08-03T08:52:04.613Z  Done         4     None  \n",
       "19  2021-08-26T08:45:15.263Z  Done         4     None  \n",
       "20   2021-08-26T08:45:48.97Z  Done         4     None  >"
      ]
     },
     "execution_count": 30,
     "metadata": {},
     "output_type": "execute_result"
    }
   ],
   "source": [
    "df_nested_list.info"
   ]
  },
  {
   "cell_type": "code",
   "execution_count": 31,
   "metadata": {},
   "outputs": [
    {
     "data": {
      "text/plain": [
       "WorkItemId           int64\n",
       "LeadTimeDays       float64\n",
       "CycleTimeDays      float64\n",
       "CompletedDateSK      int64\n",
       "Title               object\n",
       "WorkItemType        object\n",
       "CreatedDate         object\n",
       "State               object\n",
       "Priority             int64\n",
       "TagNames            object\n",
       "dtype: object"
      ]
     },
     "execution_count": 31,
     "metadata": {},
     "output_type": "execute_result"
    }
   ],
   "source": [
    "df_nested_list.dtypes"
   ]
  },
  {
   "cell_type": "code",
   "execution_count": 32,
   "metadata": {},
   "outputs": [],
   "source": [
    "from datetime import datetime"
   ]
  },
  {
   "cell_type": "code",
   "execution_count": 33,
   "metadata": {},
   "outputs": [
    {
     "data": {
      "text/plain": [
       "WorkItemId                  int64\n",
       "LeadTimeDays              float64\n",
       "CycleTimeDays             float64\n",
       "CompletedDateSK    datetime64[ns]\n",
       "Title                      object\n",
       "WorkItemType               object\n",
       "CreatedDate                object\n",
       "State                      object\n",
       "Priority                    int64\n",
       "TagNames                   object\n",
       "dtype: object"
      ]
     },
     "execution_count": 33,
     "metadata": {},
     "output_type": "execute_result"
    }
   ],
   "source": [
    "df_nested_list['CompletedDateSK'] = pd.to_datetime(df_nested_list['CompletedDateSK'], format='%Y%m%d')\n",
    "df_nested_list.dtypes"
   ]
  },
  {
   "cell_type": "code",
   "execution_count": 34,
   "metadata": {},
   "outputs": [
    {
     "data": {
      "text/html": [
       "<div>\n",
       "<style scoped>\n",
       "    .dataframe tbody tr th:only-of-type {\n",
       "        vertical-align: middle;\n",
       "    }\n",
       "\n",
       "    .dataframe tbody tr th {\n",
       "        vertical-align: top;\n",
       "    }\n",
       "\n",
       "    .dataframe thead th {\n",
       "        text-align: right;\n",
       "    }\n",
       "</style>\n",
       "<table border=\"1\" class=\"dataframe\">\n",
       "  <thead>\n",
       "    <tr style=\"text-align: right;\">\n",
       "      <th></th>\n",
       "      <th>WorkItemId</th>\n",
       "      <th>LeadTimeDays</th>\n",
       "      <th>CycleTimeDays</th>\n",
       "      <th>CompletedDateSK</th>\n",
       "      <th>Title</th>\n",
       "      <th>WorkItemType</th>\n",
       "      <th>CreatedDate</th>\n",
       "      <th>State</th>\n",
       "      <th>Priority</th>\n",
       "      <th>TagNames</th>\n",
       "    </tr>\n",
       "  </thead>\n",
       "  <tbody>\n",
       "    <tr>\n",
       "      <th>0</th>\n",
       "      <td>12794</td>\n",
       "      <td>4.025382</td>\n",
       "      <td>4.022234</td>\n",
       "      <td>2021-07-26</td>\n",
       "      <td>Kick off and meetings booked</td>\n",
       "      <td>Product Backlog Item</td>\n",
       "      <td>2021-07-22T08:43:54.767Z</td>\n",
       "      <td>Done</td>\n",
       "      <td>4</td>\n",
       "      <td>None</td>\n",
       "    </tr>\n",
       "    <tr>\n",
       "      <th>1</th>\n",
       "      <td>12793</td>\n",
       "      <td>4.025440</td>\n",
       "      <td>3.760926</td>\n",
       "      <td>2021-07-26</td>\n",
       "      <td>Power BI intro with Amit</td>\n",
       "      <td>Product Backlog Item</td>\n",
       "      <td>2021-07-22T08:43:26.12Z</td>\n",
       "      <td>Done</td>\n",
       "      <td>4</td>\n",
       "      <td>None</td>\n",
       "    </tr>\n",
       "    <tr>\n",
       "      <th>2</th>\n",
       "      <td>12792</td>\n",
       "      <td>4.025590</td>\n",
       "      <td>3.760822</td>\n",
       "      <td>2021-07-26</td>\n",
       "      <td>ADO intro with Neeraj</td>\n",
       "      <td>Product Backlog Item</td>\n",
       "      <td>2021-07-22T08:43:05.47Z</td>\n",
       "      <td>Done</td>\n",
       "      <td>4</td>\n",
       "      <td>None</td>\n",
       "    </tr>\n",
       "    <tr>\n",
       "      <th>3</th>\n",
       "      <td>13075</td>\n",
       "      <td>0.002593</td>\n",
       "      <td>0.000000</td>\n",
       "      <td>2021-07-27</td>\n",
       "      <td>ADO Transition - ADD Report Explanation</td>\n",
       "      <td>Product Backlog Item</td>\n",
       "      <td>2021-07-27T13:44:52.807Z</td>\n",
       "      <td>Done</td>\n",
       "      <td>4</td>\n",
       "      <td>None</td>\n",
       "    </tr>\n",
       "    <tr>\n",
       "      <th>4</th>\n",
       "      <td>13077</td>\n",
       "      <td>0.001829</td>\n",
       "      <td>0.000000</td>\n",
       "      <td>2021-07-27</td>\n",
       "      <td>ADO Transition - Connectivity to ADO from Powe...</td>\n",
       "      <td>Product Backlog Item</td>\n",
       "      <td>2021-07-27T13:49:00.82Z</td>\n",
       "      <td>Done</td>\n",
       "      <td>4</td>\n",
       "      <td>None</td>\n",
       "    </tr>\n",
       "  </tbody>\n",
       "</table>\n",
       "</div>"
      ],
      "text/plain": [
       "   WorkItemId  LeadTimeDays  CycleTimeDays CompletedDateSK  \\\n",
       "0       12794      4.025382       4.022234      2021-07-26   \n",
       "1       12793      4.025440       3.760926      2021-07-26   \n",
       "2       12792      4.025590       3.760822      2021-07-26   \n",
       "3       13075      0.002593       0.000000      2021-07-27   \n",
       "4       13077      0.001829       0.000000      2021-07-27   \n",
       "\n",
       "                                               Title          WorkItemType  \\\n",
       "0                       Kick off and meetings booked  Product Backlog Item   \n",
       "1                           Power BI intro with Amit  Product Backlog Item   \n",
       "2                              ADO intro with Neeraj  Product Backlog Item   \n",
       "3            ADO Transition - ADD Report Explanation  Product Backlog Item   \n",
       "4  ADO Transition - Connectivity to ADO from Powe...  Product Backlog Item   \n",
       "\n",
       "                CreatedDate State  Priority TagNames  \n",
       "0  2021-07-22T08:43:54.767Z  Done         4     None  \n",
       "1   2021-07-22T08:43:26.12Z  Done         4     None  \n",
       "2   2021-07-22T08:43:05.47Z  Done         4     None  \n",
       "3  2021-07-27T13:44:52.807Z  Done         4     None  \n",
       "4   2021-07-27T13:49:00.82Z  Done         4     None  "
      ]
     },
     "execution_count": 34,
     "metadata": {},
     "output_type": "execute_result"
    }
   ],
   "source": [
    "df_nested_list.head()"
   ]
  },
  {
   "cell_type": "code",
   "execution_count": 35,
   "metadata": {},
   "outputs": [],
   "source": [
    "df_nested_list['CreatedDate'] = pd.to_datetime(df_nested_list['CreatedDate'])"
   ]
  },
  {
   "cell_type": "code",
   "execution_count": 36,
   "metadata": {},
   "outputs": [],
   "source": [
    "df_nested_list['StartDate'] = df_nested_list['CreatedDate'].dt.date"
   ]
  },
  {
   "cell_type": "code",
   "execution_count": 37,
   "metadata": {},
   "outputs": [],
   "source": [
    "df_nested_list = df_nested_list.drop('CreatedDate', axis = 1)"
   ]
  },
  {
   "cell_type": "code",
   "execution_count": 38,
   "metadata": {},
   "outputs": [
    {
     "data": {
      "text/html": [
       "<div>\n",
       "<style scoped>\n",
       "    .dataframe tbody tr th:only-of-type {\n",
       "        vertical-align: middle;\n",
       "    }\n",
       "\n",
       "    .dataframe tbody tr th {\n",
       "        vertical-align: top;\n",
       "    }\n",
       "\n",
       "    .dataframe thead th {\n",
       "        text-align: right;\n",
       "    }\n",
       "</style>\n",
       "<table border=\"1\" class=\"dataframe\">\n",
       "  <thead>\n",
       "    <tr style=\"text-align: right;\">\n",
       "      <th></th>\n",
       "      <th>WorkItemId</th>\n",
       "      <th>LeadTimeDays</th>\n",
       "      <th>CycleTimeDays</th>\n",
       "      <th>CompletedDateSK</th>\n",
       "      <th>Title</th>\n",
       "      <th>WorkItemType</th>\n",
       "      <th>State</th>\n",
       "      <th>Priority</th>\n",
       "      <th>TagNames</th>\n",
       "      <th>StartDate</th>\n",
       "    </tr>\n",
       "  </thead>\n",
       "  <tbody>\n",
       "    <tr>\n",
       "      <th>0</th>\n",
       "      <td>12794</td>\n",
       "      <td>4.025382</td>\n",
       "      <td>4.022234</td>\n",
       "      <td>2021-07-26</td>\n",
       "      <td>Kick off and meetings booked</td>\n",
       "      <td>Product Backlog Item</td>\n",
       "      <td>Done</td>\n",
       "      <td>4</td>\n",
       "      <td>None</td>\n",
       "      <td>2021-07-22</td>\n",
       "    </tr>\n",
       "    <tr>\n",
       "      <th>1</th>\n",
       "      <td>12793</td>\n",
       "      <td>4.025440</td>\n",
       "      <td>3.760926</td>\n",
       "      <td>2021-07-26</td>\n",
       "      <td>Power BI intro with Amit</td>\n",
       "      <td>Product Backlog Item</td>\n",
       "      <td>Done</td>\n",
       "      <td>4</td>\n",
       "      <td>None</td>\n",
       "      <td>2021-07-22</td>\n",
       "    </tr>\n",
       "    <tr>\n",
       "      <th>2</th>\n",
       "      <td>12792</td>\n",
       "      <td>4.025590</td>\n",
       "      <td>3.760822</td>\n",
       "      <td>2021-07-26</td>\n",
       "      <td>ADO intro with Neeraj</td>\n",
       "      <td>Product Backlog Item</td>\n",
       "      <td>Done</td>\n",
       "      <td>4</td>\n",
       "      <td>None</td>\n",
       "      <td>2021-07-22</td>\n",
       "    </tr>\n",
       "    <tr>\n",
       "      <th>3</th>\n",
       "      <td>13075</td>\n",
       "      <td>0.002593</td>\n",
       "      <td>0.000000</td>\n",
       "      <td>2021-07-27</td>\n",
       "      <td>ADO Transition - ADD Report Explanation</td>\n",
       "      <td>Product Backlog Item</td>\n",
       "      <td>Done</td>\n",
       "      <td>4</td>\n",
       "      <td>None</td>\n",
       "      <td>2021-07-27</td>\n",
       "    </tr>\n",
       "    <tr>\n",
       "      <th>4</th>\n",
       "      <td>13077</td>\n",
       "      <td>0.001829</td>\n",
       "      <td>0.000000</td>\n",
       "      <td>2021-07-27</td>\n",
       "      <td>ADO Transition - Connectivity to ADO from Powe...</td>\n",
       "      <td>Product Backlog Item</td>\n",
       "      <td>Done</td>\n",
       "      <td>4</td>\n",
       "      <td>None</td>\n",
       "      <td>2021-07-27</td>\n",
       "    </tr>\n",
       "  </tbody>\n",
       "</table>\n",
       "</div>"
      ],
      "text/plain": [
       "   WorkItemId  LeadTimeDays  CycleTimeDays CompletedDateSK  \\\n",
       "0       12794      4.025382       4.022234      2021-07-26   \n",
       "1       12793      4.025440       3.760926      2021-07-26   \n",
       "2       12792      4.025590       3.760822      2021-07-26   \n",
       "3       13075      0.002593       0.000000      2021-07-27   \n",
       "4       13077      0.001829       0.000000      2021-07-27   \n",
       "\n",
       "                                               Title          WorkItemType  \\\n",
       "0                       Kick off and meetings booked  Product Backlog Item   \n",
       "1                           Power BI intro with Amit  Product Backlog Item   \n",
       "2                              ADO intro with Neeraj  Product Backlog Item   \n",
       "3            ADO Transition - ADD Report Explanation  Product Backlog Item   \n",
       "4  ADO Transition - Connectivity to ADO from Powe...  Product Backlog Item   \n",
       "\n",
       "  State  Priority TagNames   StartDate  \n",
       "0  Done         4     None  2021-07-22  \n",
       "1  Done         4     None  2021-07-22  \n",
       "2  Done         4     None  2021-07-22  \n",
       "3  Done         4     None  2021-07-27  \n",
       "4  Done         4     None  2021-07-27  "
      ]
     },
     "execution_count": 38,
     "metadata": {},
     "output_type": "execute_result"
    }
   ],
   "source": [
    "df_nested_list.head()"
   ]
  },
  {
   "cell_type": "code",
   "execution_count": 21,
   "metadata": {},
   "outputs": [],
   "source": [
    "df_nested_list['CreatedDateNew'] = pd.to_datetime(df_nested_list.CreatedDateNew).dt.tz_localize(None)"
   ]
  },
  {
   "cell_type": "code",
   "execution_count": 22,
   "metadata": {},
   "outputs": [
    {
     "data": {
      "text/plain": [
       "WorkItemId                       int64\n",
       "LeadTimeDays                   float64\n",
       "CycleTimeDays                  float64\n",
       "CompletedDateSK         datetime64[ns]\n",
       "Title                           object\n",
       "WorkItemType                    object\n",
       "CreatedDate        datetime64[ns, UTC]\n",
       "State                           object\n",
       "Priority                         int64\n",
       "TagNames                        object\n",
       "CreatedDateNew          datetime64[ns]\n",
       "dtype: object"
      ]
     },
     "execution_count": 22,
     "metadata": {},
     "output_type": "execute_result"
    }
   ],
   "source": [
    "df_nested_list.dtypes"
   ]
  },
  {
   "cell_type": "code",
   "execution_count": 23,
   "metadata": {},
   "outputs": [],
   "source": [
    "df_nested_list.to_csv(\"your_bp1.csv\")"
   ]
  },
  {
   "cell_type": "code",
   "execution_count": null,
   "metadata": {},
   "outputs": [],
   "source": []
  }
 ],
 "metadata": {
  "kernelspec": {
   "display_name": "Python 3",
   "language": "python",
   "name": "python3"
  },
  "language_info": {
   "codemirror_mode": {
    "name": "ipython",
    "version": 3
   },
   "file_extension": ".py",
   "mimetype": "text/x-python",
   "name": "python",
   "nbconvert_exporter": "python",
   "pygments_lexer": "ipython3",
   "version": "3.8.5"
  }
 },
 "nbformat": 4,
 "nbformat_minor": 4
}
